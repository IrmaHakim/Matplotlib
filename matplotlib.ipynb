{
 "cells": [
  {
   "cell_type": "code",
   "execution_count": 1,
   "id": "d9fd3ded",
   "metadata": {},
   "outputs": [],
   "source": [
    "import pandas as pd"
   ]
  },
  {
   "cell_type": "code",
   "execution_count": 2,
   "id": "6d57f13d",
   "metadata": {},
   "outputs": [],
   "source": [
    "import numpy as np"
   ]
  },
  {
   "cell_type": "code",
   "execution_count": 5,
   "id": "8374dba9",
   "metadata": {},
   "outputs": [],
   "source": [
    "import matplotlib.pyplot as plt"
   ]
  },
  {
   "cell_type": "code",
   "execution_count": 6,
   "id": "b58df3f8",
   "metadata": {},
   "outputs": [
    {
     "data": {
      "text/html": [
       "<div>\n",
       "<style scoped>\n",
       "    .dataframe tbody tr th:only-of-type {\n",
       "        vertical-align: middle;\n",
       "    }\n",
       "\n",
       "    .dataframe tbody tr th {\n",
       "        vertical-align: top;\n",
       "    }\n",
       "\n",
       "    .dataframe thead th {\n",
       "        text-align: right;\n",
       "    }\n",
       "</style>\n",
       "<table border=\"1\" class=\"dataframe\">\n",
       "  <thead>\n",
       "    <tr style=\"text-align: right;\">\n",
       "      <th></th>\n",
       "      <th>Year</th>\n",
       "      <th>Month</th>\n",
       "      <th>Tmax</th>\n",
       "      <th>Tmin</th>\n",
       "      <th>Rain</th>\n",
       "      <th>Sun</th>\n",
       "    </tr>\n",
       "  </thead>\n",
       "  <tbody>\n",
       "    <tr>\n",
       "      <th>0</th>\n",
       "      <td>2018</td>\n",
       "      <td>1</td>\n",
       "      <td>9.7</td>\n",
       "      <td>3.8</td>\n",
       "      <td>58.0</td>\n",
       "      <td>46.5</td>\n",
       "    </tr>\n",
       "    <tr>\n",
       "      <th>1</th>\n",
       "      <td>2018</td>\n",
       "      <td>2</td>\n",
       "      <td>6.7</td>\n",
       "      <td>0.6</td>\n",
       "      <td>29.0</td>\n",
       "      <td>92.0</td>\n",
       "    </tr>\n",
       "    <tr>\n",
       "      <th>2</th>\n",
       "      <td>2018</td>\n",
       "      <td>3</td>\n",
       "      <td>9.8</td>\n",
       "      <td>3.0</td>\n",
       "      <td>81.2</td>\n",
       "      <td>70.3</td>\n",
       "    </tr>\n",
       "    <tr>\n",
       "      <th>3</th>\n",
       "      <td>2018</td>\n",
       "      <td>4</td>\n",
       "      <td>15.5</td>\n",
       "      <td>7.9</td>\n",
       "      <td>65.2</td>\n",
       "      <td>113.4</td>\n",
       "    </tr>\n",
       "    <tr>\n",
       "      <th>4</th>\n",
       "      <td>2018</td>\n",
       "      <td>5</td>\n",
       "      <td>20.8</td>\n",
       "      <td>9.8</td>\n",
       "      <td>58.4</td>\n",
       "      <td>248.3</td>\n",
       "    </tr>\n",
       "    <tr>\n",
       "      <th>5</th>\n",
       "      <td>2018</td>\n",
       "      <td>6</td>\n",
       "      <td>24.2</td>\n",
       "      <td>13.1</td>\n",
       "      <td>0.4</td>\n",
       "      <td>234.5</td>\n",
       "    </tr>\n",
       "    <tr>\n",
       "      <th>6</th>\n",
       "      <td>2018</td>\n",
       "      <td>7</td>\n",
       "      <td>28.3</td>\n",
       "      <td>16.4</td>\n",
       "      <td>14.8</td>\n",
       "      <td>272.5</td>\n",
       "    </tr>\n",
       "    <tr>\n",
       "      <th>7</th>\n",
       "      <td>2018</td>\n",
       "      <td>8</td>\n",
       "      <td>24.5</td>\n",
       "      <td>14.5</td>\n",
       "      <td>48.2</td>\n",
       "      <td>182.1</td>\n",
       "    </tr>\n",
       "    <tr>\n",
       "      <th>8</th>\n",
       "      <td>2018</td>\n",
       "      <td>9</td>\n",
       "      <td>20.9</td>\n",
       "      <td>11.0</td>\n",
       "      <td>29.4</td>\n",
       "      <td>195.0</td>\n",
       "    </tr>\n",
       "    <tr>\n",
       "      <th>9</th>\n",
       "      <td>2018</td>\n",
       "      <td>10</td>\n",
       "      <td>16.5</td>\n",
       "      <td>8.5</td>\n",
       "      <td>61.0</td>\n",
       "      <td>137.0</td>\n",
       "    </tr>\n",
       "    <tr>\n",
       "      <th>10</th>\n",
       "      <td>2018</td>\n",
       "      <td>11</td>\n",
       "      <td>12.2</td>\n",
       "      <td>5.8</td>\n",
       "      <td>73.8</td>\n",
       "      <td>72.9</td>\n",
       "    </tr>\n",
       "    <tr>\n",
       "      <th>11</th>\n",
       "      <td>2018</td>\n",
       "      <td>12</td>\n",
       "      <td>10.7</td>\n",
       "      <td>5.2</td>\n",
       "      <td>60.6</td>\n",
       "      <td>40.3</td>\n",
       "    </tr>\n",
       "  </tbody>\n",
       "</table>\n",
       "</div>"
      ],
      "text/plain": [
       "    Year  Month  Tmax  Tmin  Rain    Sun\n",
       "0   2018      1   9.7   3.8  58.0   46.5\n",
       "1   2018      2   6.7   0.6  29.0   92.0\n",
       "2   2018      3   9.8   3.0  81.2   70.3\n",
       "3   2018      4  15.5   7.9  65.2  113.4\n",
       "4   2018      5  20.8   9.8  58.4  248.3\n",
       "5   2018      6  24.2  13.1   0.4  234.5\n",
       "6   2018      7  28.3  16.4  14.8  272.5\n",
       "7   2018      8  24.5  14.5  48.2  182.1\n",
       "8   2018      9  20.9  11.0  29.4  195.0\n",
       "9   2018     10  16.5   8.5  61.0  137.0\n",
       "10  2018     11  12.2   5.8  73.8   72.9\n",
       "11  2018     12  10.7   5.2  60.6   40.3"
      ]
     },
     "execution_count": 6,
     "metadata": {},
     "output_type": "execute_result"
    }
   ],
   "source": [
    "weather = pd.read_csv('https://raw.githubusercontent.com/alanjones2/dataviz/master/london2018.csv')\n",
    "weather"
   ]
  },
  {
   "cell_type": "markdown",
   "id": "3948eaab",
   "metadata": {},
   "source": [
    "# line graph"
   ]
  },
  {
   "cell_type": "code",
   "execution_count": 7,
   "id": "9e2933c3",
   "metadata": {},
   "outputs": [
    {
     "data": {
      "text/plain": [
       "<AxesSubplot:xlabel='Month'>"
      ]
     },
     "execution_count": 7,
     "metadata": {},
     "output_type": "execute_result"
    },
    {
     "data": {
      "image/png": "[encoded data removed]",
      "text/plain": [
       "<Figure size 432x288 with 1 Axes>"
      ]
     },
     "metadata": {
      "needs_background": "light"
     },
     "output_type": "display_data"
    }
   ],
   "source": [
    "weather.plot(y='Tmax', x='Month')"
   ]
  },
  {
   "cell_type": "markdown",
   "id": "96c18d99",
   "metadata": {},
   "source": [
    "# 2 PLOTS ON SAME AXIS:"
   ]
  },
  {
   "cell_type": "code",
   "execution_count": 8,
   "id": "a6dfd72a",
   "metadata": {},
   "outputs": [
    {
     "data": {
      "text/plain": [
       "<AxesSubplot:xlabel='Month'>"
      ]
     },
     "execution_count": 8,
     "metadata": {},
     "output_type": "execute_result"
    },
    {
     "data": {
      "image/png": "[encoded data removed]",
      "text/plain": [
       "<Figure size 432x288 with 1 Axes>"
      ]
     },
     "metadata": {
      "needs_background": "light"
     },
     "output_type": "display_data"
    }
   ],
   "source": [
    "weather.plot(y=['Tmax','Tmin'], x='Month')"
   ]
  },
  {
   "cell_type": "markdown",
   "id": "5ac4dd55",
   "metadata": {},
   "source": [
    "# Bar plot"
   ]
  },
  {
   "cell_type": "code",
   "execution_count": 9,
   "id": "76492316",
   "metadata": {},
   "outputs": [
    {
     "data": {
      "text/plain": [
       "<AxesSubplot:xlabel='Month'>"
      ]
     },
     "execution_count": 9,
     "metadata": {},
     "output_type": "execute_result"
    },
    {
     "data": {
      "image/png": "[encoded data removed]",
      "text/plain": [
       "<Figure size 432x288 with 1 Axes>"
      ]
     },
     "metadata": {
      "needs_background": "light"
     },
     "output_type": "display_data"
    }
   ],
   "source": [
    "weather.plot.bar(y='Tmax', x='Month')"
   ]
  },
  {
   "cell_type": "markdown",
   "id": "95cae0dd",
   "metadata": {},
   "source": [
    "# 2 PLOTS ON SAME AXIS:"
   ]
  },
  {
   "cell_type": "code",
   "execution_count": 10,
   "id": "a0fe7a9d",
   "metadata": {},
   "outputs": [
    {
     "data": {
      "text/plain": [
       "<AxesSubplot:xlabel='Month'>"
      ]
     },
     "execution_count": 10,
     "metadata": {},
     "output_type": "execute_result"
    },
    {
     "data": {
      "image/png": "[encoded data removed]",
      "text/plain": [
       "<Figure size 432x288 with 1 Axes>"
      ]
     },
     "metadata": {
      "needs_background": "light"
     },
     "output_type": "display_data"
    }
   ],
   "source": [
    "weather.plot.bar(y=['Tmax','Tmin'], x='Month')"
   ]
  },
  {
   "cell_type": "markdown",
   "id": "3beb5579",
   "metadata": {},
   "source": [
    "# HORIZONTAL BAR PLOT:"
   ]
  },
  {
   "cell_type": "code",
   "execution_count": 11,
   "id": "5b5df63e",
   "metadata": {},
   "outputs": [
    {
     "data": {
      "text/plain": [
       "<AxesSubplot:ylabel='Month'>"
      ]
     },
     "execution_count": 11,
     "metadata": {},
     "output_type": "execute_result"
    },
    {
     "data": {
      "image/png": "[encoded data removed]",
      "text/plain": [
       "<Figure size 432x288 with 1 Axes>"
      ]
     },
     "metadata": {
      "needs_background": "light"
     },
     "output_type": "display_data"
    }
   ],
   "source": [
    "weather.plot.barh(y='Tmax', x='Month')"
   ]
  },
  {
   "cell_type": "markdown",
   "id": "d8e2a44b",
   "metadata": {},
   "source": [
    "# SCATTER PLOT:"
   ]
  },
  {
   "cell_type": "code",
   "execution_count": 12,
   "id": "5c874aca",
   "metadata": {},
   "outputs": [
    {
     "data": {
      "text/plain": [
       "<AxesSubplot:xlabel='Month', ylabel='Rain'>"
      ]
     },
     "execution_count": 12,
     "metadata": {},
     "output_type": "execute_result"
    },
    {
     "data": {
      "image/png": "[encoded data removed]",
      "text/plain": [
       "<Figure size 432x288 with 1 Axes>"
      ]
     },
     "metadata": {
      "needs_background": "light"
     },
     "output_type": "display_data"
    }
   ],
   "source": [
    "weather.plot.scatter(y='Rain', x='Month')"
   ]
  },
  {
   "cell_type": "markdown",
   "id": "60ea22eb",
   "metadata": {},
   "source": [
    "# PROPERTIES OF PLOTS:"
   ]
  },
  {
   "cell_type": "code",
   "execution_count": 13,
   "id": "593dfbb5",
   "metadata": {},
   "outputs": [
    {
     "data": {
      "text/plain": [
       "<AxesSubplot:ylabel='Month'>"
      ]
     },
     "execution_count": 13,
     "metadata": {},
     "output_type": "execute_result"
    },
    {
     "data": {
      "image/png": "[encoded data removed]",
      "text/plain": [
       "<Figure size 432x288 with 1 Axes>"
      ]
     },
     "metadata": {
      "needs_background": "light"
     },
     "output_type": "display_data"
    }
   ],
   "source": [
    "#COLOR:\n",
    "weather.plot.barh(y='Tmax', x='Month', color=\"blue\")"
   ]
  },
  {
   "cell_type": "code",
   "execution_count": 15,
   "id": "49877a1c",
   "metadata": {},
   "outputs": [
    {
     "data": {
      "text/plain": [
       "<AxesSubplot:xlabel='Month'>"
      ]
     },
     "execution_count": 15,
     "metadata": {},
     "output_type": "execute_result"
    },
    {
     "data": {
      "image/png": "[encoded data removed]",
      "text/plain": [
       "<Figure size 432x288 with 1 Axes>"
      ]
     },
     "metadata": {
      "needs_background": "light"
     },
     "output_type": "display_data"
    }
   ],
   "source": [
    "weather.plot.bar(y=['Tmax','Tmin'], x='Month' , color=[\"green\",\"blue\"])"
   ]
  },
  {
   "cell_type": "code",
   "execution_count": 16,
   "id": "75e58e19",
   "metadata": {},
   "outputs": [
    {
     "data": {
      "text/plain": [
       "<AxesSubplot:xlabel='Month'>"
      ]
     },
     "execution_count": 16,
     "metadata": {},
     "output_type": "execute_result"
    },
    {
     "data": {
      "image/png": "[encoded data removed]",
      "text/plain": [
       "<Figure size 432x288 with 1 Axes>"
      ]
     },
     "metadata": {
      "needs_background": "light"
     },
     "output_type": "display_data"
    }
   ],
   "source": [
    "#LINE STYLE:\n",
    "weather.plot(y=\"Tmax\", x=\"Month\", color= \"orange\", linestyle='-.')"
   ]
  },
  {
   "cell_type": "code",
   "execution_count": 17,
   "id": "68cc40c6",
   "metadata": {},
   "outputs": [
    {
     "data": {
      "text/plain": [
       "<AxesSubplot:xlabel='Month'>"
      ]
     },
     "execution_count": 17,
     "metadata": {},
     "output_type": "execute_result"
    },
    {
     "data": {
      "image/png": "[encoded data removed]",
      "text/plain": [
       "<Figure size 432x288 with 1 Axes>"
      ]
     },
     "metadata": {
      "needs_background": "light"
     },
     "output_type": "display_data"
    }
   ],
   "source": [
    "#MARKERS:\n",
    "weather.plot(y=\"Tmax\", x=\"Month\", color= \"orange\", marker=\"d\")"
   ]
  },
  {
   "cell_type": "code",
   "execution_count": 18,
   "id": "8aa105d6",
   "metadata": {},
   "outputs": [
    {
     "data": {
      "image/png": "[encoded data removed]",
      "text/plain": [
       "<Figure size 432x288 with 1 Axes>"
      ]
     },
     "metadata": {
      "needs_background": "light"
     },
     "output_type": "display_data"
    }
   ],
   "source": [
    "#LABELS:\n",
    "weather.plot(y=\"Tmax\" , x=\"Month\",color=\"cyan\",marker=\"d\",linestyle=\"-.\")\n",
    "plt.ylabel('temperature Maximum')\n",
    "plt.xlabel('Month of Year 2018')\n",
    "plt.title('weather plotting of maximum temperature result on monthly basis')\n",
    "plt.legend()\n",
    "plt.show()"
   ]
  },
  {
   "cell_type": "markdown",
   "id": "d591c31b",
   "metadata": {},
   "source": [
    "# MULTIPLE CHARTS:"
   ]
  },
  {
   "cell_type": "code",
   "execution_count": 19,
   "id": "05c13dcc",
   "metadata": {},
   "outputs": [
    {
     "data": {
      "text/plain": [
       "array([[<AxesSubplot:title={'center':'Tmax'}, xlabel='Month'>,\n",
       "        <AxesSubplot:title={'center':'Tmin'}, xlabel='Month'>],\n",
       "       [<AxesSubplot:title={'center':'Rain'}, xlabel='Month'>,\n",
       "        <AxesSubplot:title={'center':'Sun'}, xlabel='Month'>]],\n",
       "      dtype=object)"
      ]
     },
     "execution_count": 19,
     "metadata": {},
     "output_type": "execute_result"
    },
    {
     "data": {
      "image/png": "[encoded data removed]",
      "text/plain": [
       "<Figure size 432x288 with 4 Axes>"
      ]
     },
     "metadata": {
      "needs_background": "light"
     },
     "output_type": "display_data"
    }
   ],
   "source": [
    "weather.plot.bar(y=['Tmax','Tmin','Rain','Sun'], x='Month',subplots=True, layout=(2,2))"
   ]
  },
  {
   "cell_type": "code",
   "execution_count": 20,
   "id": "6498e036",
   "metadata": {},
   "outputs": [
    {
     "data": {
      "text/plain": [
       "array([[<AxesSubplot:xlabel='Month'>, <AxesSubplot:xlabel='Month'>],\n",
       "       [<AxesSubplot:xlabel='Month'>, <AxesSubplot:xlabel='Month'>]],\n",
       "      dtype=object)"
      ]
     },
     "execution_count": 20,
     "metadata": {},
     "output_type": "execute_result"
    },
    {
     "data": {
      "image/png": "[encoded data removed]",
      "text/plain": [
       "<Figure size 432x288 with 4 Axes>"
      ]
     },
     "metadata": {
      "needs_background": "light"
     },
     "output_type": "display_data"
    }
   ],
   "source": [
    "weather.plot(y=['Tmax','Tmin','Rain','Sun'], x='Month',subplots=True, layout=(2,2))"
   ]
  },
  {
   "cell_type": "markdown",
   "id": "879ab245",
   "metadata": {},
   "source": [
    "# PIE CHARTS:"
   ]
  },
  {
   "cell_type": "code",
   "execution_count": 22,
   "id": "046ad94b",
   "metadata": {},
   "outputs": [
    {
     "data": {
      "text/html": [
       "<div>\n",
       "<style scoped>\n",
       "    .dataframe tbody tr th:only-of-type {\n",
       "        vertical-align: middle;\n",
       "    }\n",
       "\n",
       "    .dataframe tbody tr th {\n",
       "        vertical-align: top;\n",
       "    }\n",
       "\n",
       "    .dataframe thead th {\n",
       "        text-align: right;\n",
       "    }\n",
       "</style>\n",
       "<table border=\"1\" class=\"dataframe\">\n",
       "  <thead>\n",
       "    <tr style=\"text-align: right;\">\n",
       "      <th></th>\n",
       "      <th>lunch</th>\n",
       "      <th>dinner</th>\n",
       "    </tr>\n",
       "  </thead>\n",
       "  <tbody>\n",
       "    <tr>\n",
       "      <th>Pizza</th>\n",
       "      <td>10</td>\n",
       "      <td>17</td>\n",
       "    </tr>\n",
       "    <tr>\n",
       "      <th>Hamburger</th>\n",
       "      <td>15</td>\n",
       "      <td>6</td>\n",
       "    </tr>\n",
       "    <tr>\n",
       "      <th>Curry</th>\n",
       "      <td>5</td>\n",
       "      <td>7</td>\n",
       "    </tr>\n",
       "  </tbody>\n",
       "</table>\n",
       "</div>"
      ],
      "text/plain": [
       "           lunch  dinner\n",
       "Pizza         10      17\n",
       "Hamburger     15       6\n",
       "Curry          5       7"
      ]
     },
     "execution_count": 22,
     "metadata": {},
     "output_type": "execute_result"
    }
   ],
   "source": [
    "meals = pd.read_csv(\"https://raw.githubusercontent.com/alanjones2/dataviz/master/meals2.csv\", index_col = 0)\n",
    "meals"
   ]
  },
  {
   "cell_type": "code",
   "execution_count": 23,
   "id": "951519c1",
   "metadata": {},
   "outputs": [
    {
     "data": {
      "text/plain": [
       "array([<AxesSubplot:ylabel='lunch'>, <AxesSubplot:ylabel='dinner'>],\n",
       "      dtype=object)"
      ]
     },
     "execution_count": 23,
     "metadata": {},
     "output_type": "execute_result"
    },
    {
     "data": {
      "image/png": "[encoded data removed]",
      "text/plain": [
       "<Figure size 432x288 with 2 Axes>"
      ]
     },
     "metadata": {},
     "output_type": "display_data"
    }
   ],
   "source": [
    "meals.plot.pie(subplots=True)"
   ]
  },
  {
   "cell_type": "code",
   "execution_count": 24,
   "id": "39b3e567",
   "metadata": {},
   "outputs": [
    {
     "data": {
      "text/plain": [
       "<Figure size 432x288 with 0 Axes>"
      ]
     },
     "metadata": {},
     "output_type": "display_data"
    }
   ],
   "source": [
    "plt.savefig(\"pie.png\")"
   ]
  },
  {
   "cell_type": "markdown",
   "id": "1f4c1e55",
   "metadata": {},
   "source": [
    "# APPEND IN CSV FILE:"
   ]
  },
  {
   "cell_type": "code",
   "execution_count": 26,
   "id": "f06db84e",
   "metadata": {},
   "outputs": [
    {
     "data": {
      "text/html": [
       "<div>\n",
       "<style scoped>\n",
       "    .dataframe tbody tr th:only-of-type {\n",
       "        vertical-align: middle;\n",
       "    }\n",
       "\n",
       "    .dataframe tbody tr th {\n",
       "        vertical-align: top;\n",
       "    }\n",
       "\n",
       "    .dataframe thead th {\n",
       "        text-align: right;\n",
       "    }\n",
       "</style>\n",
       "<table border=\"1\" class=\"dataframe\">\n",
       "  <thead>\n",
       "    <tr style=\"text-align: right;\">\n",
       "      <th></th>\n",
       "      <th>lunch</th>\n",
       "      <th>dinner</th>\n",
       "    </tr>\n",
       "  </thead>\n",
       "  <tbody>\n",
       "    <tr>\n",
       "      <th>Pizza</th>\n",
       "      <td>10</td>\n",
       "      <td>17</td>\n",
       "    </tr>\n",
       "    <tr>\n",
       "      <th>Hamburger</th>\n",
       "      <td>15</td>\n",
       "      <td>6</td>\n",
       "    </tr>\n",
       "    <tr>\n",
       "      <th>Curry</th>\n",
       "      <td>5</td>\n",
       "      <td>7</td>\n",
       "    </tr>\n",
       "  </tbody>\n",
       "</table>\n",
       "</div>"
      ],
      "text/plain": [
       "           lunch  dinner\n",
       "Pizza         10      17\n",
       "Hamburger     15       6\n",
       "Curry          5       7"
      ]
     },
     "execution_count": 26,
     "metadata": {},
     "output_type": "execute_result"
    }
   ],
   "source": [
    "meals = pd.read_csv(\"https://raw.githubusercontent.com/alanjones2/dataviz/master/meals2.csv\", index_col = 0)\n",
    "meals"
   ]
  },
  {
   "cell_type": "code",
   "execution_count": 27,
   "id": "978b2fe6",
   "metadata": {},
   "outputs": [
    {
     "data": {
      "text/html": [
       "<div>\n",
       "<style scoped>\n",
       "    .dataframe tbody tr th:only-of-type {\n",
       "        vertical-align: middle;\n",
       "    }\n",
       "\n",
       "    .dataframe tbody tr th {\n",
       "        vertical-align: top;\n",
       "    }\n",
       "\n",
       "    .dataframe thead th {\n",
       "        text-align: right;\n",
       "    }\n",
       "</style>\n",
       "<table border=\"1\" class=\"dataframe\">\n",
       "  <thead>\n",
       "    <tr style=\"text-align: right;\">\n",
       "      <th></th>\n",
       "      <th>lunch</th>\n",
       "      <th>dinner</th>\n",
       "      <th>breakfast</th>\n",
       "    </tr>\n",
       "  </thead>\n",
       "  <tbody>\n",
       "    <tr>\n",
       "      <th>Pizza</th>\n",
       "      <td>10</td>\n",
       "      <td>17</td>\n",
       "      <td>15</td>\n",
       "    </tr>\n",
       "    <tr>\n",
       "      <th>Hamburger</th>\n",
       "      <td>15</td>\n",
       "      <td>6</td>\n",
       "      <td>2</td>\n",
       "    </tr>\n",
       "    <tr>\n",
       "      <th>Curry</th>\n",
       "      <td>5</td>\n",
       "      <td>7</td>\n",
       "      <td>6</td>\n",
       "    </tr>\n",
       "  </tbody>\n",
       "</table>\n",
       "</div>"
      ],
      "text/plain": [
       "           lunch  dinner  breakfast\n",
       "Pizza         10      17         15\n",
       "Hamburger     15       6          2\n",
       "Curry          5       7          6"
      ]
     },
     "execution_count": 27,
     "metadata": {},
     "output_type": "execute_result"
    }
   ],
   "source": [
    "#append in csv file\n",
    "meals[\"breakfast\"]=[15,2,6]\n",
    "meals"
   ]
  },
  {
   "cell_type": "code",
   "execution_count": null,
   "id": "efae1402",
   "metadata": {},
   "outputs": [],
   "source": []
  }
 ],
 "metadata": {
  "kernelspec": {
   "display_name": "Python 3 (ipykernel)",
   "language": "python",
   "name": "python3"
  },
  "language_info": {
   "codemirror_mode": {
    "name": "ipython",
    "version": 3
   },
   "file_extension": ".py",
   "mimetype": "text/x-python",
   "name": "python",
   "nbconvert_exporter": "python",
   "pygments_lexer": "ipython3",
   "version": "3.8.7"
  }
 },
 "nbformat": 4,
 "nbformat_minor": 5
}
